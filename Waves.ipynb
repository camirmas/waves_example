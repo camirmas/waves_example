{
 "cells": [
  {
   "cell_type": "code",
   "execution_count": 3,
   "id": "ca71cada-a2ff-4917-91a1-e50c4df6001e",
   "metadata": {},
   "outputs": [],
   "source": [
    "import mhkit\n",
    "from mhkit import wave"
   ]
  },
  {
   "cell_type": "code",
   "execution_count": 4,
   "id": "aebf6d0c-9fd8-4684-b59a-b841966907df",
   "metadata": {},
   "outputs": [
    {
     "name": "stdout",
     "output_type": "stream",
     "text": [
      "West_Coast\n"
     ]
    }
   ],
   "source": [
    "lat_lon = [44.624076,-124.280097]\n",
    "region = wave.io.hindcast.region_selection(lat_lon)\n",
    "print(region)"
   ]
  },
  {
   "cell_type": "code",
   "execution_count": 5,
   "id": "d07eaa93-07a6-4b1d-ae5d-1cd32625a1dd",
   "metadata": {},
   "outputs": [],
   "source": [
    "data_type = '3-hour' # setting the data type to the 3-hour dataset\n",
    "years = [1995]\n",
    "lat_lon = (44.624076,-124.280097)\n",
    "parameter = 'significant_wave_height'\n",
    "\n",
    "Hs, metadata= wave.io.hindcast.request_wpto_point_data(data_type,parameter,lat_lon,years)"
   ]
  },
  {
   "cell_type": "code",
   "execution_count": 6,
   "id": "87681f2f-1142-4c8f-98b7-f5020fb59148",
   "metadata": {},
   "outputs": [
    {
     "data": {
      "text/html": [
       "<div>\n",
       "<style scoped>\n",
       "    .dataframe tbody tr th:only-of-type {\n",
       "        vertical-align: middle;\n",
       "    }\n",
       "\n",
       "    .dataframe tbody tr th {\n",
       "        vertical-align: top;\n",
       "    }\n",
       "\n",
       "    .dataframe thead th {\n",
       "        text-align: right;\n",
       "    }\n",
       "</style>\n",
       "<table border=\"1\" class=\"dataframe\">\n",
       "  <thead>\n",
       "    <tr style=\"text-align: right;\">\n",
       "      <th></th>\n",
       "      <th>water_depth</th>\n",
       "      <th>latitude</th>\n",
       "      <th>longitude</th>\n",
       "      <th>distance_to_shore</th>\n",
       "      <th>timezone</th>\n",
       "      <th>jurisdiction</th>\n",
       "    </tr>\n",
       "  </thead>\n",
       "  <tbody>\n",
       "    <tr>\n",
       "      <th>0</th>\n",
       "      <td>77.429497</td>\n",
       "      <td>44.624298</td>\n",
       "      <td>-124.278999</td>\n",
       "      <td>15622.175781</td>\n",
       "      <td>-8</td>\n",
       "      <td>Federal</td>\n",
       "    </tr>\n",
       "  </tbody>\n",
       "</table>\n",
       "</div>"
      ],
      "text/plain": [
       "   water_depth   latitude   longitude  distance_to_shore  timezone  \\\n",
       "0    77.429497  44.624298 -124.278999       15622.175781        -8   \n",
       "\n",
       "  jurisdiction  \n",
       "0      Federal  "
      ]
     },
     "execution_count": 6,
     "metadata": {},
     "output_type": "execute_result"
    }
   ],
   "source": [
    "metadata"
   ]
  },
  {
   "cell_type": "code",
   "execution_count": 7,
   "id": "2cb94b55-7760-43c3-ba54-f2292aa0d46e",
   "metadata": {},
   "outputs": [
    {
     "data": {
      "text/html": [
       "<div>\n",
       "<style scoped>\n",
       "    .dataframe tbody tr th:only-of-type {\n",
       "        vertical-align: middle;\n",
       "    }\n",
       "\n",
       "    .dataframe tbody tr th {\n",
       "        vertical-align: top;\n",
       "    }\n",
       "\n",
       "    .dataframe thead th {\n",
       "        text-align: right;\n",
       "    }\n",
       "</style>\n",
       "<table border=\"1\" class=\"dataframe\">\n",
       "  <thead>\n",
       "    <tr style=\"text-align: right;\">\n",
       "      <th></th>\n",
       "      <th>significant_wave_height_0</th>\n",
       "    </tr>\n",
       "    <tr>\n",
       "      <th>time_index</th>\n",
       "      <th></th>\n",
       "    </tr>\n",
       "  </thead>\n",
       "  <tbody>\n",
       "    <tr>\n",
       "      <th>1995-01-01 00:00:00+00:00</th>\n",
       "      <td>2.35354</td>\n",
       "    </tr>\n",
       "    <tr>\n",
       "      <th>1995-01-01 03:00:00+00:00</th>\n",
       "      <td>2.39468</td>\n",
       "    </tr>\n",
       "    <tr>\n",
       "      <th>1995-01-01 06:00:00+00:00</th>\n",
       "      <td>2.45756</td>\n",
       "    </tr>\n",
       "    <tr>\n",
       "      <th>1995-01-01 09:00:00+00:00</th>\n",
       "      <td>2.55913</td>\n",
       "    </tr>\n",
       "    <tr>\n",
       "      <th>1995-01-01 12:00:00+00:00</th>\n",
       "      <td>2.66992</td>\n",
       "    </tr>\n",
       "  </tbody>\n",
       "</table>\n",
       "</div>"
      ],
      "text/plain": [
       "                           significant_wave_height_0\n",
       "time_index                                          \n",
       "1995-01-01 00:00:00+00:00                    2.35354\n",
       "1995-01-01 03:00:00+00:00                    2.39468\n",
       "1995-01-01 06:00:00+00:00                    2.45756\n",
       "1995-01-01 09:00:00+00:00                    2.55913\n",
       "1995-01-01 12:00:00+00:00                    2.66992"
      ]
     },
     "execution_count": 7,
     "metadata": {},
     "output_type": "execute_result"
    }
   ],
   "source": [
    "Hs.head()"
   ]
  }
 ],
 "metadata": {
  "kernelspec": {
   "display_name": "waves",
   "language": "python",
   "name": "env"
  },
  "language_info": {
   "codemirror_mode": {
    "name": "ipython",
    "version": 3
   },
   "file_extension": ".py",
   "mimetype": "text/x-python",
   "name": "python",
   "nbconvert_exporter": "python",
   "pygments_lexer": "ipython3",
   "version": "3.9.1"
  }
 },
 "nbformat": 4,
 "nbformat_minor": 5
}
